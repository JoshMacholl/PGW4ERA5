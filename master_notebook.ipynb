{
 "cells": [
  {
   "cell_type": "markdown",
   "metadata": {},
   "source": [
    "# Run PGW-software on JupyterLab"
   ]
  },
  {
   "cell_type": "markdown",
   "metadata": {},
   "source": [
    "This notebook can be used by users with a CSCS account to prepare PGW-simulations. It has been developed to be run on https://jupyter.cscs.ch/ on one node."
   ]
  },
  {
   "cell_type": "markdown",
   "metadata": {},
   "source": [
    "## Prerequisites"
   ]
  },
  {
   "cell_type": "markdown",
   "metadata": {},
   "source": [
    "1. The software is written in python and has various dependencies that are listed in [pgw_conda_env.yml](./pgw_conda_env.yml). The dependencies must be available in a kernel in jupyterlab. The commands to install such a kernel on can be found in [/Documentations/Howto_install_kernel_CSCS.md](./Documentations/Howto_install_kernel_CSCS.md) (installing on /project or /store prevents issues with the memory limit in your home). \n",
    "1. Monthly mean changes for the desried climatic variables or climate change deltas from GCMs or RCMs are needed. You find instructions on how to do that in [/Documentations/README_CMOR.md](./Documentations/README_CMOR.md)."
   ]
  },
  {
   "cell_type": "markdown",
   "metadata": {},
   "source": [
    "## Step 1: Interpolate input data to output time frequency"
   ]
  },
  {
   "cell_type": "markdown",
   "metadata": {},
   "source": [
    "First we define paths to input data (netcdf format) as a list. We also provide the name of the variables within the netcdf file as a list. Then using the variable output_time_steps, we give the amount of timesteps we need as output in one year (366 * 4 for 6-hourly). The scripts only work if we produce output for the entire year even if only part of it is needed. Also we have to provide the loaction to save the output of the function. "
   ]
  },
  {
   "cell_type": "code",
   "execution_count": 11,
   "metadata": {},
   "outputs": [],
   "source": [
    "samepath='/scratch/snx3000/heimc/pgw/deltas/GCMdata_SA/'\n",
    "\n",
    "file_path_int = [\n",
    "samepath+'diff_hur.nc',\n",
    "samepath+'diff_hurs.nc',\n",
    "samepath+'diff_ta.nc',\n",
    "samepath+'diff_tas.nc',\n",
    "samepath+'diff_ua.nc',\n",
    "samepath+'diff_va.nc',\n",
    "]\n",
    "\n",
    "variablename = ['hur', 'hurs', 'ta', 'tas', 'ua', 'va']\n",
    "#variablename = ['ta']\n",
    "\n",
    "output_time_steps = 366 * 8\n",
    "inputfreq = 'month'\n",
    "outputpath_int = '/scratch/snx3000/heimc/pgw/interpolated/'"
   ]
  },
  {
   "cell_type": "markdown",
   "metadata": {},
   "source": [
    "Next we import all necessary modules and initialize a dask distributed client for paralell execution. Sometimes this gives an \"Exception\", but can be ignored if the client runs..."
   ]
  },
  {
   "cell_type": "code",
   "execution_count": 2,
   "metadata": {},
   "outputs": [
    {
     "name": "stdout",
     "output_type": "stream",
     "text": [
      "<Client: 'tcp://127.0.0.1:38095' processes=6 threads=24, memory=59.57 GiB>\n"
     ]
    }
   ],
   "source": [
    "import dask\n",
    "from dask.distributed import Client\n",
    "from distributed.diagnostics.plugin import UploadFile\n",
    "import os\n",
    "from interpolate import interpannualcycle_dask #custom function (needs to be in same folder as notebook)\n",
    "\n",
    "threads_per_task = 4\n",
    "client = Client(n_workers=6, threads_per_worker=threads_per_task) #one worker per variable\n",
    "print(client)# see if clinet runs"
   ]
  },
  {
   "cell_type": "markdown",
   "metadata": {},
   "source": [
    "Now we define the tasks we want to run (the function interpannualcycle for every variable):"
   ]
  },
  {
   "cell_type": "code",
   "execution_count": 3,
   "metadata": {},
   "outputs": [
    {
     "data": {
      "text/plain": [
       "[Delayed('interpannualcycle_dask-1b84d877-6935-4fa0-ba80-8eef64684911'),\n",
       " Delayed('interpannualcycle_dask-8c6fca6b-3e2d-4acb-a174-6924ead34964'),\n",
       " Delayed('interpannualcycle_dask-19fddc2f-241b-4de0-b31a-b391b592e996'),\n",
       " Delayed('interpannualcycle_dask-e2fd6154-b536-4387-b64b-ff8312259ad5'),\n",
       " Delayed('interpannualcycle_dask-5639c4b1-79a4-46a3-9855-f107f0f63861'),\n",
       " Delayed('interpannualcycle_dask-b84d3397-aef8-496c-95c1-c1720ef065d2')]"
      ]
     },
     "execution_count": 3,
     "metadata": {},
     "output_type": "execute_result"
    }
   ],
   "source": [
    "tasks=[]\n",
    "wordir=os.getcwd()\n",
    "\n",
    "for path_in, variable_in in zip(file_path_int, variablename):\n",
    "    temp = dask.delayed(interpannualcycle_dask)(path_in, variable_in,\\\n",
    "            output_time_steps, inputfreq, outputpath_int, threads_per_task)\n",
    "    tasks.append(temp)\n",
    "\n",
    "tasks #should show all tasks"
   ]
  },
  {
   "cell_type": "markdown",
   "metadata": {},
   "source": [
    "Now we send the tasks to the cluster for computation (we also need to make all the workers aware of the custom python function). We are using the dask version to avoid memory issues. This will take some time (2-3h), make sure you have assigned enough time in Jupyterlab and do something else in between (log out possible)! Whenever there are no memory issues the original numpy-based code will be faster due to IO."
   ]
  },
  {
   "cell_type": "code",
   "execution_count": 4,
   "metadata": {},
   "outputs": [
    {
     "data": {
      "text/plain": [
       "(None, None, None, None, None, None)"
      ]
     },
     "execution_count": 4,
     "metadata": {},
     "output_type": "execute_result"
    }
   ],
   "source": [
    "client.register_worker_plugin(UploadFile(wordir+\"/interpolate.py\"))\n",
    "dask.compute(*tasks, scheduler='processes')"
   ]
  },
  {
   "cell_type": "markdown",
   "metadata": {},
   "source": [
    "## Step 2: Regrid to regional model grid horizontally"
   ]
  },
  {
   "cell_type": "markdown",
   "metadata": {},
   "source": [
    "After the inperpolation to the new timesteps is finished, we can continue on the single netcdf-files saved and regrid them to the grid of the regional model. This requires new settings. First, a path to a netcdf file using the target grid must be specified (has to include the lat and lon coordinates of the target). Second, a folder where the output can be stored should be given."
   ]
  },
  {
   "cell_type": "code",
   "execution_count": 13,
   "metadata": {},
   "outputs": [],
   "source": [
    "outputgridfile = '/project/pr94/heimc/data/cosmo_out/SA_3_long/lm_c/lffd20060801000000c.nc'\n",
    "outputfolder_regrid = '/scratch/snx3000/heimc/pgw/regridded/'\n",
    "\n",
    "#take previously defined values:\n",
    "infolder = outputpath_int\n",
    "inputtimesteps = output_time_steps"
   ]
  },
  {
   "cell_type": "markdown",
   "metadata": {},
   "source": [
    "Next we will prepare the tasks to run on the cluster, just as as we have done in the first step. Many commands are just repeated for savety reasons."
   ]
  },
  {
   "cell_type": "code",
   "execution_count": 6,
   "metadata": {},
   "outputs": [
    {
     "name": "stderr",
     "output_type": "stream",
     "text": [
      "/project/pr94/heimc/anaconda3/envs/pgw-python3/lib/python3.7/site-packages/distributed/node.py:164: UserWarning: Port 8787 is already in use.\n",
      "Perhaps you already have a cluster running?\n",
      "Hosting the HTTP server on port 37181 instead\n",
      "  expected, actual\n"
     ]
    },
    {
     "name": "stdout",
     "output_type": "stream",
     "text": [
      "<Client: 'tcp://127.0.0.1:43823' processes=6 threads=24, memory=59.57 GiB>\n"
     ]
    },
    {
     "data": {
      "text/plain": [
       "[Delayed('regridhorizontal-e25cf9e9-a458-486f-bf79-062ffe14fef9'),\n",
       " Delayed('regridhorizontal-74b7ffc0-382c-4a26-984b-22a67fdfe374'),\n",
       " Delayed('regridhorizontal-ac1b0135-05bb-4d62-9dd9-0dbe4a14b1fa'),\n",
       " Delayed('regridhorizontal-834f8dd9-3506-4563-b42d-a184d7fb7abe'),\n",
       " Delayed('regridhorizontal-c41134ce-c893-4b7c-ae21-e7e5eff921ed'),\n",
       " Delayed('regridhorizontal-d10012d7-b2c7-4df6-a6a5-e2cac87d7fdf')]"
      ]
     },
     "execution_count": 6,
     "metadata": {},
     "output_type": "execute_result"
    }
   ],
   "source": [
    "import dask\n",
    "from dask.distributed import Client\n",
    "from distributed.diagnostics.plugin import UploadFile\n",
    "import os\n",
    "from regrid_horizontal import regridhorizontal #custom function (needs to be in same folder as notebook)\n",
    "\n",
    "client = Client(n_workers=6, threads_per_worker=4) #one worker per variable\n",
    "print(client)# see if clinet runs\n",
    "\n",
    "tasks=[]\n",
    "wordir=os.getcwd()\n",
    "\n",
    "for variable in variablename:\n",
    "    temp = dask.delayed(regridhorizontal)(infolder, variable, inputtimesteps, outputgridfile, outputfolder_regrid)\n",
    "    tasks.append(temp)\n",
    "\n",
    "tasks #should show all tasks"
   ]
  },
  {
   "cell_type": "markdown",
   "metadata": {},
   "source": [
    "Now send the tasks to the cluster. This should run faster than the previous step but can also take some time."
   ]
  },
  {
   "cell_type": "code",
   "execution_count": null,
   "metadata": {},
   "outputs": [],
   "source": [
    "client.register_worker_plugin(UploadFile(wordir+\"/regrid_horizontal.py\"))\n",
    "dask.compute(*tasks, scheduler='processes')"
   ]
  },
  {
   "cell_type": "markdown",
   "metadata": {},
   "source": [
    "## Step 3: Change vertical coordinate for 3D fields (CCLM_only)"
   ]
  },
  {
   "cell_type": "markdown",
   "metadata": {},
   "source": [
    "Lastly, we need to change the vertical coordinate to that of the regional model. This is highly dependent on the regional model used and no generic solution exists... The code here is specific to COSMO-CLM.<br>\n",
    "We first again need to give some settings."
   ]
  },
  {
   "cell_type": "code",
   "execution_count": 14,
   "metadata": {},
   "outputs": [],
   "source": [
    "terrainpath = outputgridfile\n",
    "datapath = outputfolder_regrid\n",
    "\n",
    "variablename = ['hur','ta','ua','va'] #only 3D data\n",
    "out_vars = ['RELHUM', 'T', 'U', 'V'] #rename variable to the correct ones for cosmo\n",
    "outputpath_vertical = '/scratch/snx3000/heimc/pgw/vertint/'\n",
    "\n",
    "vcflat = 17827 #height where modellevels become flat (see cosmo namelist)\n",
    "\n",
    "steps_per_job = inputtimesteps + 100 #this option is not used in notebook just leave as it is\n",
    "starttime = 0 #set to 0; not used in notebook"
   ]
  },
  {
   "cell_type": "markdown",
   "metadata": {},
   "source": [
    "<div class=\"alert alert-block alert-danger\">\n",
    "<b>Important:</b> The vertical level information is read from the file <b>heights.txt</b> which needs to be checked and updated with own level specifications. It can be copy-pasted from an YUSPECIF file from a COSMO simulation using the target vertical levels.\n",
    "</div>"
   ]
  },
  {
   "cell_type": "code",
   "execution_count": 9,
   "metadata": {},
   "outputs": [
    {
     "name": "stdout",
     "output_type": "stream",
     "text": [
      "The following height half-levels will be used, should match namelist\n",
      "[2.97985000e+04 2.82559297e+04 2.68240391e+04 2.54973906e+04\n",
      " 2.42693496e+04 2.31340293e+04 2.20818809e+04 2.11056406e+04\n",
      " 2.02077891e+04 1.93605996e+04 1.85765195e+04 1.78278594e+04\n",
      " 1.71279805e+04 1.64510996e+04 1.58115195e+04 1.51835303e+04\n",
      " 1.45813701e+04 1.39820400e+04 1.34000303e+04 1.28153701e+04\n",
      " 1.22481904e+04 1.16785400e+04 1.11264805e+04 1.05720898e+04\n",
      " 1.00354297e+04 9.49658010e+03 8.97558980e+03 8.45254980e+03\n",
      " 7.94752000e+03 7.44054980e+03 6.93196000e+03 6.44237990e+03\n",
      " 5.95641020e+03 5.49804000e+03 5.05083980e+03 4.64796000e+03\n",
      " 4.26191020e+03 3.89326000e+03 3.54214990e+03 3.20852000e+03\n",
      " 2.89223000e+03 2.59371000e+03 2.31295000e+03 2.04975000e+03\n",
      " 1.80389000e+03 1.57556990e+03 1.36468010e+03 1.17090000e+03\n",
      " 9.93840000e+02 8.33440000e+02 6.89530000e+02 5.61520000e+02\n",
      " 4.48820000e+02 3.50950000e+02 2.67550000e+02 1.97670000e+02\n",
      " 1.37230000e+02 8.73300000e+01 4.84400000e+01 2.00000000e+01\n",
      " 0.00000000e+00]\n"
     ]
    }
   ],
   "source": [
    "import numpy as np\n",
    "print('The following height half-levels will be used, should match namelist')\n",
    "print(np.genfromtxt('heights.txt',skip_header=1)[:,1])"
   ]
  },
  {
   "cell_type": "markdown",
   "metadata": {},
   "source": [
    "As before we define the tasks to run. Note that we need less workers than before as we have less variables. Thus we may have to close dask.distributed clients used before."
   ]
  },
  {
   "cell_type": "code",
   "execution_count": 10,
   "metadata": {},
   "outputs": [
    {
     "name": "stderr",
     "output_type": "stream",
     "text": [
      "/project/pr94/heimc/anaconda3/envs/pgw-python3/lib/python3.7/site-packages/distributed/node.py:164: UserWarning: Port 8787 is already in use.\n",
      "Perhaps you already have a cluster running?\n",
      "Hosting the HTTP server on port 40249 instead\n",
      "  expected, actual\n"
     ]
    },
    {
     "name": "stdout",
     "output_type": "stream",
     "text": [
      "<Client: 'tcp://127.0.0.1:34413' processes=4 threads=24, memory=59.57 GiB>\n"
     ]
    },
    {
     "data": {
      "text/plain": [
       "[Delayed('vertinterpol-aebb5fa1-b296-49b5-8695-b862f8950d70'),\n",
       " Delayed('vertinterpol-6a293ff0-8ac6-4e8e-beb2-f54c4f20a1d2'),\n",
       " Delayed('vertinterpol-4e7804ff-330d-409e-a04c-8252c95da28c'),\n",
       " Delayed('vertinterpol-f6edc646-298e-4b6e-88cc-f36724de1fb5')]"
      ]
     },
     "execution_count": 10,
     "metadata": {},
     "output_type": "execute_result"
    }
   ],
   "source": [
    "import dask\n",
    "from dask.distributed import Client\n",
    "from distributed.diagnostics.plugin import UploadFile\n",
    "import os\n",
    "from cclm_vertical import vertinterpol #custom function (needs to be in same folder as notebook)\n",
    "\n",
    "try:\n",
    "    client.close()\n",
    "except:\n",
    "    pass\n",
    "\n",
    "client = Client(n_workers=4, threads_per_worker=6) #one worker per variable\n",
    "print(client)# see if clinet runs\n",
    "\n",
    "tasks=[]\n",
    "wordir=os.getcwd()\n",
    "\n",
    "for variable,out_var in zip(variablename, out_vars):\n",
    "    temp = dask.delayed(vertinterpol)(terrainpath, datapath, variable, out_var, \\\n",
    "                                      outputpath_vertical, vcflat, steps_per_job, starttime)\n",
    "    tasks.append(temp)\n",
    "\n",
    "tasks #should show all tasks"
   ]
  },
  {
   "cell_type": "markdown",
   "metadata": {},
   "source": [
    "AAAAND submit :), This will again take a couple of hours (around 3h on one node), it is save to logout..."
   ]
  },
  {
   "cell_type": "code",
   "execution_count": null,
   "metadata": {},
   "outputs": [],
   "source": [
    "client.register_worker_plugin(UploadFile(wordir+\"/cclm_vertical.py\"))\n",
    "dask.compute(*tasks, scheduler='processes')"
   ]
  },
  {
   "cell_type": "markdown",
   "metadata": {},
   "source": [
    "## Start of Postprocessing - Step 1: Rename 2D variables"
   ]
  },
  {
   "cell_type": "markdown",
   "metadata": {},
   "source": [
    "Now we have computed the climate change deltas :). Now we can add them to the initial condition and lateral boundary condition files from the control simulation that were created by int2lm. As a first step we quickly rename the 2D variables from the CMOR naming convention to what is used by COSMO. Most likely you will have to re-run all cells above with definitions of paths to avoid errors."
   ]
  },
  {
   "cell_type": "markdown",
   "metadata": {},
   "source": [
    "Define the names to be renamed as lists:"
   ]
  },
  {
   "cell_type": "code",
   "execution_count": 15,
   "metadata": {},
   "outputs": [],
   "source": [
    "#take previously defined variables\n",
    "output_path_new_2D = outputpath_vertical\n",
    "difference_2d_files_path = outputfolder_regrid\n",
    "output_time_steps = output_time_steps\n",
    "\n",
    "variablename_cmor = [ 'hurs', 'tas' ]\n",
    "variablename_cclm = ['RELHUM_S', 'T_S'] #tas is modifiyed to T_S instead of T_2M to adapt the sea surface temps"
   ]
  },
  {
   "cell_type": "markdown",
   "metadata": {},
   "source": [
    "Loop over the list and execute the renaming (should be fast):"
   ]
  },
  {
   "cell_type": "code",
   "execution_count": null,
   "metadata": {},
   "outputs": [],
   "source": [
    "for var_cmor, var_cclm in zip(variablename_cmor, variablename_cclm):\n",
    "    %run Postprocess_CCLM/rename_variables.py $var_cmor $var_cclm $difference_2d_files_path $output_path_new_2D $output_time_steps"
   ]
  },
  {
   "cell_type": "markdown",
   "metadata": {},
   "source": [
    "<div class=\"alert alert-block alert-warning\">\n",
    "<b>Warning:</b> At this state it makes sense to move all climate changes deltas that were computed (3D and 2D) to a permanent file system so you can access them later.\n",
    "</div>"
   ]
  },
  {
   "cell_type": "markdown",
   "metadata": {},
   "source": [
    "## Postprocessing Step 2 - adapt initial condition file"
   ]
  },
  {
   "cell_type": "markdown",
   "metadata": {},
   "source": [
    "We are now ready to adapt the initial condition file of the RCM and subsequently the boundary condition files. These need to be present on the file system. "
   ]
  },
  {
   "cell_type": "markdown",
   "metadata": {},
   "source": [
    "<div class=\"alert alert-block alert-info\">\n",
    "<b>Information:</b> Before running this step you need to run int2lm for the historical/evaluation period and/or have the laf*.nc and lbfd*.nc files ready on the cluster.\n",
    "</div>"
   ]
  },
  {
   "cell_type": "markdown",
   "metadata": {},
   "source": [
    "Information as input for the file needs to be provided next (no computation is triggered). \n",
    "1. path_to_deltas: the path where the climate change deltas created by previous scripts are saved\n",
    "1. output_path: the folder where the output should be saved (can be the same as above, the filename is changed). \n",
    "1. constant_variables_file: We again need information on the terrainheight from a constant field (for computation of reference pressure).\n",
    "1. lbfds_files_path: Where are the inintial/boundary conditions files (Int2lm output)?\n",
    "1. changeyears: How many years should be added to the model calendar (determines greenhouse-gas concentration in COSMO).\n",
    "1. laftimestring: A string giving the future timestep of the laf in the format 'seconds since yyyy-mm-dd hh:mm:ss'\n",
    "1. starttimestep: What timestep within the yearly cycle has to be used for the initial conditions? (0 = midnight jaunuary first; otherwise dayofyear * boundary update frequency)\n",
    "1. recompute_pressure: Should the pressure be recomputed to maintain the hydrostatic balance after the temperature is changed? True or False. If set to false a climate change delta for PP (deviation from reference pressure in cosmo) must be provided."
   ]
  },
  {
   "cell_type": "code",
   "execution_count": 62,
   "metadata": {},
   "outputs": [
    {
     "name": "stdout",
     "output_type": "stream",
     "text": [
      "using this file:  /scratch/snx3000/heimc/lmp/wd/06080100_SA_3_long/int2lm_out/laf20060801000000.nc\n"
     ]
    }
   ],
   "source": [
    "import glob\n",
    "path_to_deltas = output_path_new_2D\n",
    "\n",
    "constant_variables_file = outputgridfile\n",
    "\n",
    "lbfds_files_path='/scratch/snx3000/heimc/lmp/wd/06080100_SA_3_long/int2lm_out'\n",
    "#this might have to be changed if lbfd files are organized according to years (the date will be changed by this script)\n",
    "output_path='/scratch/snx3000/heimc/lmp/wd/94090100_SA_3_long/int2lm_out'\n",
    "\n",
    "# (no need to change this block) get laf file path and year by reading from above directory\n",
    "laf_file=glob.glob(f'{lbfds_files_path}/laf*')\n",
    "laf_file.sort()\n",
    "laf_file = laf_file[0]\n",
    "year_laf=laf_file.split('laf')[1][:4]\n",
    "\n",
    "#how many years to add laf files? #for nomal calendars should be able to devide by 4 due to leap years (needed for adjustment of CO2 concentrations)\n",
    "changeyears=88\n",
    "year_laf = int(year_laf) + changeyears\n",
    "\n",
    "#put the correct start date\n",
    "laftimestring = f'seconds since {year_laf}-08-01 00:00:00'\n",
    "#starttimestep=212 * 8 #0 for 1st of january then count up depending on boundary update frequency\n",
    "starttimestep=243 * 8 #0 for 1st of january then count up depending on boundary update frequency\n",
    "\n",
    "recompute_pressure=True #True if no pressure change are available as as climate change deltas; false if a PP-Diff file exists (if input comes from CCLM)\n",
    "\n",
    "print('using this file: ', laf_file)"
   ]
  },
  {
   "cell_type": "markdown",
   "metadata": {},
   "source": [
    "Run the respective script directly, as it works on one file only it should not take long. "
   ]
  },
  {
   "cell_type": "code",
   "execution_count": 61,
   "metadata": {},
   "outputs": [
    {
     "name": "stdout",
     "output_type": "stream",
     "text": [
      "load done\n",
      "rh done\n",
      "pressure done\n",
      "add T\n",
      "add T_S\n",
      "add U\n",
      "add V\n",
      "moisture\n",
      "saved /scratch/snx3000/heimc/lmp/wd/94090100_SA_3_long/int2lm_out_PGW/laf2094000000.nc\n"
     ]
    }
   ],
   "source": [
    "%run Postprocess_CCLM/laf_adapt.py $laf_file $year_laf $output_path $path_to_deltas $constant_variables_file \"$laftimestring\" $starttimestep $recompute_pressure"
   ]
  },
  {
   "cell_type": "markdown",
   "metadata": {},
   "source": [
    "<div class=\"alert alert-block alert-info\">\n",
    "<b>Tipp:</b> Do a quick sanity check to see if the original laf and the adapted laf file can are different as expected. e.g. using CDO in a terminal: cdo diffn 'name of original laf'.nc 'name of new laf'.nc\n",
    "</div>"
   ]
  },
  {
   "cell_type": "markdown",
   "metadata": {},
   "source": [
    "## Postprocessing Step 3 - adapt boundary condition files"
   ]
  },
  {
   "cell_type": "markdown",
   "metadata": {},
   "source": [
    "Now for the heavy lifting in the postprocessing: Add the derived climatic changes to all boundary condition files. Note that the same changes are need to be added for each simulation year. Most of the information needed for the computation is that same as for the initial condition file."
   ]
  },
  {
   "cell_type": "code",
   "execution_count": 63,
   "metadata": {},
   "outputs": [],
   "source": [
    "#make sure the right paths are taken from adaption of laf\n",
    "lbfds_files_path = lbfds_files_path\n",
    "output_path = output_path\n",
    "\n",
    "path_to_deltas = path_to_deltas\n",
    "input_timesteps_deltas = inputtimesteps\n",
    "\n",
    "constant_variables_file = constant_variables_file\n",
    "\n",
    "starttimestep = starttimestep\n",
    "changeyears = changeyears\n",
    "\n",
    "recompute_pressure = recompute_pressure\n",
    "\n",
    "#If you have lbfd files for more than one year you might want to loop over different years, \n",
    "#otherwise leave st_year and end_year at same random number\n",
    "st_year=2006\n",
    "end_year=2006\n"
   ]
  },
  {
   "cell_type": "markdown",
   "metadata": {},
   "source": [
    "Now we again initialize a dask cluster. Use one worker per year you want to run the PGW for (or just do it manually multiple times)."
   ]
  },
  {
   "cell_type": "code",
   "execution_count": 64,
   "metadata": {},
   "outputs": [
    {
     "name": "stderr",
     "output_type": "stream",
     "text": [
      "/project/pr94/heimc/anaconda3/envs/pgw-python3/lib/python3.7/site-packages/distributed/node.py:164: UserWarning: Port 8787 is already in use.\n",
      "Perhaps you already have a cluster running?\n",
      "Hosting the HTTP server on port 34389 instead\n",
      "  expected, actual\n"
     ]
    },
    {
     "name": "stdout",
     "output_type": "stream",
     "text": [
      "<Client: 'tcp://127.0.0.1:44581' processes=1 threads=24, memory=59.57 GiB>\n"
     ]
    },
    {
     "data": {
      "text/plain": [
       "[Delayed('workflow_lbfd-98728b79-449f-4de9-8766-6f90b6bc6a38')]"
      ]
     },
     "execution_count": 64,
     "metadata": {},
     "output_type": "execute_result"
    }
   ],
   "source": [
    "import dask\n",
    "from dask.distributed import Client\n",
    "from distributed.diagnostics.plugin import UploadFile\n",
    "import os\n",
    "from Postprocess_CCLM.lbfd_adapt import workflow_lbfd #custom function (needs to be in same folder as notebook)\n",
    "\n",
    "wordir=os.getcwd()\n",
    "\n",
    "try:\n",
    "    client.close()\n",
    "except:\n",
    "    pass\n",
    "\n",
    "client = Client(n_workers=1, threads_per_worker=24) #one worker per year (maximum 24 on piz daint)\n",
    "print(client)# see if clinet runs\n",
    "\n",
    "tasks=[]\n",
    "\n",
    "for yyyy in range(st_year, end_year + 1):\n",
    "    newyear = yyyy + changeyears\n",
    "    \n",
    "    if end_year - st_year > 0: # if one wants to sumbit multiple jobs for different years, files should be grouped in folders for the year\n",
    "        output_path = f'{output_path}/{newyear}/'\n",
    "        lbfds_files_path = f'{lbfds_files_path}/{yyyy}/'\n",
    "    \n",
    "    os.makedirs(output_path, exist_ok=1)\n",
    "    \n",
    "    temp = dask.delayed(workflow_lbfd)(yyyy, lbfds_files_path, output_path, path_to_deltas, constant_variables_file, starttimestep,\\\n",
    "                                       input_timesteps_deltas, changeyears, recompute_pressure)\n",
    "    tasks.append(temp)\n",
    "\n",
    "tasks #should show all tasks"
   ]
  },
  {
   "cell_type": "code",
   "execution_count": null,
   "metadata": {},
   "outputs": [],
   "source": [
    "client.register_worker_plugin(UploadFile(wordir+\"/Postprocess_CCLM/lbfd_adapt.py\"))\n",
    "dask.compute(*tasks, scheduler='processes')"
   ]
  },
  {
   "cell_type": "markdown",
   "metadata": {},
   "source": [
    "<div class=\"alert alert-block alert-success\">\n",
    "<b>Success:</b> After the above command finished you should be ready to run CCLM. Again it is recommended to do a quick sanity check of the output files in the command line.\n",
    "</div>"
   ]
  }
 ],
 "metadata": {
  "kernelspec": {
   "display_name": "pgw-python3-kernel",
   "language": "python",
   "name": "pgw-python3-kernel"
  },
  "language_info": {
   "codemirror_mode": {
    "name": "ipython",
    "version": 3
   },
   "file_extension": ".py",
   "mimetype": "text/x-python",
   "name": "python",
   "nbconvert_exporter": "python",
   "pygments_lexer": "ipython3",
   "version": "3.7.10"
  }
 },
 "nbformat": 4,
 "nbformat_minor": 4
}
